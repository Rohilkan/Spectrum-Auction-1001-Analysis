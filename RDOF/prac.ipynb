{
 "cells": [
  {
   "cell_type": "code",
   "execution_count": 2,
   "metadata": {},
   "outputs": [],
   "source": [
    "import numpy as np, pandas as pd, seaborn as sns"
   ]
  },
  {
   "cell_type": "code",
   "execution_count": 8,
   "metadata": {},
   "outputs": [],
   "source": [
    "superC = pd.read_csv('~/Downloads/superconductors.csv')"
   ]
  },
  {
   "cell_type": "code",
   "execution_count": 13,
   "metadata": {},
   "outputs": [
    {
     "data": {
      "text/plain": [
       "'number_of_elements + mean_atomic_mass + wtd_mean_atomic_mass + gmean_atomic_mass + wtd_gmean_atomic_mass + entropy_atomic_mass + wtd_entropy_atomic_mass + range_atomic_mass + wtd_range_atomic_mass + std_atomic_mass + wtd_std_atomic_mass + mean_fie + wtd_mean_fie + gmean_fie + wtd_gmean_fie + entropy_fie + wtd_entropy_fie + range_fie + wtd_range_fie + std_fie + wtd_std_fie + mean_atomic_radius + wtd_mean_atomic_radius + gmean_atomic_radius + wtd_gmean_atomic_radius + entropy_atomic_radius + wtd_entropy_atomic_radius + range_atomic_radius + wtd_range_atomic_radius + std_atomic_radius + wtd_std_atomic_radius + mean_Density + wtd_mean_Density + gmean_Density + wtd_gmean_Density + entropy_Density + wtd_entropy_Density + range_Density + wtd_range_Density + std_Density + wtd_std_Density + mean_ElectronAffinity + wtd_mean_ElectronAffinity + gmean_ElectronAffinity + wtd_gmean_ElectronAffinity + entropy_ElectronAffinity + wtd_entropy_ElectronAffinity + range_ElectronAffinity + wtd_range_ElectronAffinity + std_ElectronAffinity + wtd_std_ElectronAffinity + mean_FusionHeat + wtd_mean_FusionHeat + gmean_FusionHeat + wtd_gmean_FusionHeat + entropy_FusionHeat + wtd_entropy_FusionHeat + range_FusionHeat + wtd_range_FusionHeat + std_FusionHeat + wtd_std_FusionHeat + mean_ThermalConductivity + wtd_mean_ThermalConductivity + gmean_ThermalConductivity + wtd_gmean_ThermalConductivity + entropy_ThermalConductivity + wtd_entropy_ThermalConductivity + range_ThermalConductivity + wtd_range_ThermalConductivity + std_ThermalConductivity + wtd_std_ThermalConductivity + mean_Valence + wtd_mean_Valence + gmean_Valence + wtd_gmean_Valence + entropy_Valence + wtd_entropy_Valence + range_Valence + wtd_range_Valence + std_Valence + wtd_std_Valence + critical_temp'"
      ]
     },
     "execution_count": 13,
     "metadata": {},
     "output_type": "execute_result"
    }
   ],
   "source": [
    "cols = \" + \".join(superC.columns)\n",
    "cols"
   ]
  },
  {
   "cell_type": "code",
   "execution_count": null,
   "metadata": {},
   "outputs": [],
   "source": []
  }
 ],
 "metadata": {
  "kernelspec": {
   "display_name": "base",
   "language": "python",
   "name": "python3"
  },
  "language_info": {
   "codemirror_mode": {
    "name": "ipython",
    "version": 3
   },
   "file_extension": ".py",
   "mimetype": "text/x-python",
   "name": "python",
   "nbconvert_exporter": "python",
   "pygments_lexer": "ipython3",
   "version": "3.9.12"
  },
  "orig_nbformat": 4
 },
 "nbformat": 4,
 "nbformat_minor": 2
}
